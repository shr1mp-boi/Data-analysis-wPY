{
 "cells": [
  {
   "cell_type": "markdown",
   "id": "f50e2fb2-6bba-4b8f-ab93-5c75d4dbe8e3",
   "metadata": {},
   "source": [
    "# **Ejercicio 1: Crear un arreglo**\n",
    "#### - Crea un arreglo de números del 0 al 10 e imprime su tipo de datos y su dimensión.\n",
    "#### - Convierte el arreglo en un arreglo de tipo __float__ y vuelve a imprimirlo."
   ]
  },
  {
   "cell_type": "code",
   "execution_count": 3,
   "id": "e37c1f1c-d1b5-4e7a-8998-196ecb7d2ba5",
   "metadata": {},
   "outputs": [
    {
     "data": {
      "text/plain": [
       "array([ 0,  1,  2,  3,  4,  5,  6,  7,  8,  9, 10])"
      ]
     },
     "execution_count": 3,
     "metadata": {},
     "output_type": "execute_result"
    }
   ],
   "source": [
    "import numpy as np\n",
    "\n",
    "arr1 = np.arange(11)\n",
    "arr1"
   ]
  },
  {
   "cell_type": "code",
   "execution_count": 15,
   "id": "fca0c33c-723e-4cf1-b294-ef5bcd1e5f9c",
   "metadata": {},
   "outputs": [
    {
     "data": {
      "text/plain": [
       "dtype('int32')"
      ]
     },
     "execution_count": 15,
     "metadata": {},
     "output_type": "execute_result"
    }
   ],
   "source": [
    "# Tipo de dato\n",
    "arr1.dtype"
   ]
  },
  {
   "cell_type": "code",
   "execution_count": 210,
   "id": "d7c07d5b-7d41-4af3-9a1e-f2b7cbad0c90",
   "metadata": {},
   "outputs": [
    {
     "data": {
      "text/plain": [
       "1"
      ]
     },
     "execution_count": 210,
     "metadata": {},
     "output_type": "execute_result"
    }
   ],
   "source": [
    "# Dimension\n",
    "arr1.ndim"
   ]
  },
  {
   "cell_type": "code",
   "execution_count": 17,
   "id": "2dc0f693-be02-48cb-b649-f97128cc387a",
   "metadata": {},
   "outputs": [
    {
     "data": {
      "text/plain": [
       "array([ 0.,  1.,  2.,  3.,  4.,  5.,  6.,  7.,  8.,  9., 10.],\n",
       "      dtype=float32)"
      ]
     },
     "execution_count": 17,
     "metadata": {},
     "output_type": "execute_result"
    }
   ],
   "source": [
    "# Casteo de tipo int32 a float32\n",
    "arr1.astype('float32')"
   ]
  },
  {
   "cell_type": "markdown",
   "id": "d3648ddc-4a46-447b-bd91-6b7fdce83904",
   "metadata": {},
   "source": [
    "# **Ejercicio 2: Operaciones básicas**\n",
    "#### - Genera dos arreglos aleatorios de 5 elementos cada uno.\n",
    "#### - Realiza las siguientes operaciones entre ambos arreglos: suma, resta, multiplicación y división elemento a elemento.\n",
    "#### -  Calcula el promedio, la mediana y la desviación estándar de uno de los arreglos."
   ]
  },
  {
   "cell_type": "code",
   "execution_count": 23,
   "id": "f462b788-0848-4db3-a396-3663f26ac91e",
   "metadata": {},
   "outputs": [
    {
     "name": "stdout",
     "output_type": "stream",
     "text": [
      "Array 1: [3 2 3 3 1]\n",
      "Array 2: [3 3 2 4 3]\n"
     ]
    }
   ],
   "source": [
    "np.random.seed(123)\n",
    "arr2_1 = np.random.randint(1, 5, size = 5)\n",
    "print(\"Array 1:\", arr2_1)\n",
    "arr2_2 = np.random.randint(1, 5, size = 5)\n",
    "print(\"Array 2:\", arr2_2)"
   ]
  },
  {
   "cell_type": "code",
   "execution_count": 7,
   "id": "51f02fb5-1575-4073-9103-e18f4b35ad47",
   "metadata": {},
   "outputs": [
    {
     "data": {
      "text/plain": [
       "array([6, 5, 5, 7, 4])"
      ]
     },
     "execution_count": 7,
     "metadata": {},
     "output_type": "execute_result"
    }
   ],
   "source": [
    "# Operaciones\n",
    "\n",
    "suma = arr2_1 + arr2_2\n",
    "suma"
   ]
  },
  {
   "cell_type": "code",
   "execution_count": 9,
   "id": "47244a3c-8166-48dd-99fb-b7242cda4b41",
   "metadata": {},
   "outputs": [
    {
     "data": {
      "text/plain": [
       "array([ 0, -1,  1, -1, -2])"
      ]
     },
     "execution_count": 9,
     "metadata": {},
     "output_type": "execute_result"
    }
   ],
   "source": [
    "resta = arr2_1 - arr2_2\n",
    "resta"
   ]
  },
  {
   "cell_type": "code",
   "execution_count": 11,
   "id": "24d356ca-2437-46e7-a351-37efa81cf56d",
   "metadata": {},
   "outputs": [
    {
     "data": {
      "text/plain": [
       "array([ 9,  6,  6, 12,  3])"
      ]
     },
     "execution_count": 11,
     "metadata": {},
     "output_type": "execute_result"
    }
   ],
   "source": [
    "multi = arr2_1 * arr2_2\n",
    "multi"
   ]
  },
  {
   "cell_type": "code",
   "execution_count": 13,
   "id": "1ee0472c-a91d-46a9-8881-e4fb53a5aabc",
   "metadata": {},
   "outputs": [
    {
     "data": {
      "text/plain": [
       "array([1.        , 0.66666667, 1.5       , 0.75      , 0.33333333])"
      ]
     },
     "execution_count": 13,
     "metadata": {},
     "output_type": "execute_result"
    }
   ],
   "source": [
    "division = arr2_1 / arr2_2\n",
    "division"
   ]
  },
  {
   "cell_type": "code",
   "execution_count": 15,
   "id": "18aa05c9-07b8-4043-8faf-f024363d59d4",
   "metadata": {},
   "outputs": [
    {
     "data": {
      "text/plain": [
       "3.0"
      ]
     },
     "execution_count": 15,
     "metadata": {},
     "output_type": "execute_result"
    }
   ],
   "source": [
    "# Mediana\n",
    "np.median(arr2_1)"
   ]
  },
  {
   "cell_type": "code",
   "execution_count": 17,
   "id": "92380553-896c-484c-abc7-c98352c72395",
   "metadata": {},
   "outputs": [
    {
     "data": {
      "text/plain": [
       "2.4"
      ]
     },
     "execution_count": 17,
     "metadata": {},
     "output_type": "execute_result"
    }
   ],
   "source": [
    "#Promedio\n",
    "np.mean(arr2_1)"
   ]
  },
  {
   "cell_type": "code",
   "execution_count": 39,
   "id": "51cb63c5-2bed-4781-8550-9a12643d2d3f",
   "metadata": {},
   "outputs": [
    {
     "data": {
      "text/plain": [
       "0.8"
      ]
     },
     "execution_count": 39,
     "metadata": {},
     "output_type": "execute_result"
    }
   ],
   "source": [
    "#Desviación estándar\n",
    "np.std(arr2_1)"
   ]
  },
  {
   "cell_type": "markdown",
   "id": "7e41e893-2351-40a3-b0d9-5e537e2015b0",
   "metadata": {},
   "source": [
    "# **Ejercicio 3: Índices y selección**\n",
    "#### - Crea un arreglo de números del 1 al 25 y redimensionalo en una matriz de 5x5.\n",
    "#### - Selecciona:\n",
    "- La primera fila.\n",
    "- La última columna.\n",
    "- La submatriz de 3x3 en el centro de la matriz."
   ]
  },
  {
   "cell_type": "code",
   "execution_count": 5,
   "id": "ecb2886d-be06-4688-8d3e-b27e27d1eda9",
   "metadata": {},
   "outputs": [
    {
     "data": {
      "text/plain": [
       "array([ 0,  1,  2,  3,  4,  5,  6,  7,  8,  9, 10, 11, 12, 13, 14, 15, 16,\n",
       "       17, 18, 19, 20, 21, 22, 23, 24])"
      ]
     },
     "execution_count": 5,
     "metadata": {},
     "output_type": "execute_result"
    }
   ],
   "source": [
    "arr3 = np.arange(25)\n",
    "arr3"
   ]
  },
  {
   "cell_type": "code",
   "execution_count": 18,
   "id": "d7acff45-03ff-44a2-a37d-53b74df599ee",
   "metadata": {},
   "outputs": [
    {
     "data": {
      "text/plain": [
       "array([[ 0,  1,  2,  3,  4],\n",
       "       [ 5,  6,  7,  8,  9],\n",
       "       [10, 11, 12, 13, 14],\n",
       "       [15, 16, 17, 18, 19],\n",
       "       [20, 21, 22, 23, 24]])"
      ]
     },
     "execution_count": 18,
     "metadata": {},
     "output_type": "execute_result"
    }
   ],
   "source": [
    "arr3 = arr3.reshape(5,5)\n",
    "arr3"
   ]
  },
  {
   "cell_type": "code",
   "execution_count": 20,
   "id": "de1d1b5c-8bad-4e67-b759-6de1b1f03d1d",
   "metadata": {},
   "outputs": [
    {
     "data": {
      "text/plain": [
       "array([5, 6, 7, 8, 9])"
      ]
     },
     "execution_count": 20,
     "metadata": {},
     "output_type": "execute_result"
    }
   ],
   "source": [
    "arr3[1]"
   ]
  },
  {
   "cell_type": "code",
   "execution_count": 40,
   "id": "de3316b7-0fd0-47ac-bcba-fb9864fa2fc3",
   "metadata": {},
   "outputs": [
    {
     "data": {
      "text/plain": [
       "array([[ 4],\n",
       "       [ 9],\n",
       "       [14],\n",
       "       [19],\n",
       "       [24]])"
      ]
     },
     "execution_count": 40,
     "metadata": {},
     "output_type": "execute_result"
    }
   ],
   "source": [
    "arr3[0:, 4:]"
   ]
  },
  {
   "cell_type": "code",
   "execution_count": 47,
   "id": "3788a957-9de7-414f-99ef-a8e78b9cafde",
   "metadata": {},
   "outputs": [
    {
     "data": {
      "text/plain": [
       "array([[ 6,  7,  8],\n",
       "       [11, 12, 13],\n",
       "       [16, 17, 18]])"
      ]
     },
     "execution_count": 47,
     "metadata": {},
     "output_type": "execute_result"
    }
   ],
   "source": [
    "arr3[1:4, 1:4]"
   ]
  },
  {
   "cell_type": "markdown",
   "id": "e1ef5836-888a-4961-9368-1615960088fc",
   "metadata": {},
   "source": [
    "# **Ejercicio 4: Uso de _argmax_ y _argmin_**\n",
    "#### - Genera un arreglo aleatorio de 10 elementos.\n",
    "#### - Encuentra el ı́ndice del valor máximo y el ı́ndice del valor mı́nimo.\n",
    "#### - Cambia el valor máximo a 0 utilizando su ı́ndice."
   ]
  },
  {
   "cell_type": "code",
   "execution_count": 64,
   "id": "7835d3af-a441-425c-99c7-7cfdd8449532",
   "metadata": {},
   "outputs": [
    {
     "data": {
      "text/plain": [
       "array([3, 3, 7, 2, 4, 7, 2, 1, 2, 1])"
      ]
     },
     "execution_count": 64,
     "metadata": {},
     "output_type": "execute_result"
    }
   ],
   "source": [
    "np.random.seed(123)\n",
    "arr4 = np.random.randint(1, 10, size = 10)\n",
    "arr4"
   ]
  },
  {
   "cell_type": "code",
   "execution_count": 63,
   "id": "a48137b3-19e5-41da-a6f7-f91af6ba2ce2",
   "metadata": {},
   "outputs": [
    {
     "data": {
      "text/plain": [
       "2"
      ]
     },
     "execution_count": 63,
     "metadata": {},
     "output_type": "execute_result"
    }
   ],
   "source": [
    "arr4.argmax()"
   ]
  },
  {
   "cell_type": "code",
   "execution_count": 65,
   "id": "b8dec9d4-64ba-4697-9c94-e43427f2c85b",
   "metadata": {},
   "outputs": [
    {
     "data": {
      "text/plain": [
       "7"
      ]
     },
     "execution_count": 65,
     "metadata": {},
     "output_type": "execute_result"
    }
   ],
   "source": [
    "arr4.argmin()"
   ]
  },
  {
   "cell_type": "code",
   "execution_count": 68,
   "id": "7c2a58c4-e61f-49a1-81b0-868c75c4d7f7",
   "metadata": {},
   "outputs": [
    {
     "data": {
      "text/plain": [
       "array([3, 3, 0, 2, 4, 0, 2, 1, 2, 1])"
      ]
     },
     "execution_count": 68,
     "metadata": {},
     "output_type": "execute_result"
    }
   ],
   "source": [
    "arr4[arr4.argmax()] = 0\n",
    "arr4"
   ]
  },
  {
   "cell_type": "markdown",
   "id": "baee6c8f-737e-438a-8b7b-24ddc06485b9",
   "metadata": {},
   "source": [
    "# **Ejercicio 5: Filtrado y máscaras**\n",
    "#### - Genera un arreglo de 20 elementos con valores entre -10 y 10.\n",
    "#### - Crea una máscara para seleccionar solo los valores positivos y otro para los valores negativos.\n",
    "#### - Imprime ambos subconjuntos de valores."
   ]
  },
  {
   "cell_type": "code",
   "execution_count": 222,
   "id": "c449b59c-ad77-4839-bf44-3eaf3aea4a15",
   "metadata": {},
   "outputs": [
    {
     "data": {
      "text/plain": [
       "array([-10,  -9,  -8,  -7,  -6,  -5,  -4,  -3,  -2,  -1,   0,   1,   2,\n",
       "         3,   4,   5,   6,   7,   8,   9])"
      ]
     },
     "execution_count": 222,
     "metadata": {},
     "output_type": "execute_result"
    }
   ],
   "source": [
    "# Mascara con valores positivos\n",
    "arr5 = np.arange(-10,10)\n",
    "arr5"
   ]
  },
  {
   "cell_type": "code",
   "execution_count": 232,
   "id": "f22c2151-c947-4db0-9b7a-d072d1f3e096",
   "metadata": {},
   "outputs": [
    {
     "data": {
      "text/plain": [
       "array([1, 2, 3, 4, 5, 6, 7, 8, 9])"
      ]
     },
     "execution_count": 232,
     "metadata": {},
     "output_type": "execute_result"
    }
   ],
   "source": [
    "arrpos = (arr5 > 0)\n",
    "arr5[arrpos]"
   ]
  },
  {
   "cell_type": "code",
   "execution_count": 234,
   "id": "44c5ecd6-2e85-43c9-b78e-e71ed3a9a79a",
   "metadata": {},
   "outputs": [
    {
     "data": {
      "text/plain": [
       "array([-10,  -9,  -8,  -7,  -6,  -5,  -4,  -3,  -2,  -1])"
      ]
     },
     "execution_count": 234,
     "metadata": {},
     "output_type": "execute_result"
    }
   ],
   "source": [
    "# Mascara con valores negativos\n",
    "arrneg = (arr5 < 0)\n",
    "arr5[arrneg]"
   ]
  },
  {
   "cell_type": "markdown",
   "id": "d6636686-c179-446f-9a63-74054c02e952",
   "metadata": {},
   "source": [
    "# **Ejercicio 6: Funciones universales**\n",
    "#### - Crea un arreglo de números del 1 al 10. \n",
    "#### - Calcula la raı́z cuadrada, el seno y el logaritmo de cada elemento.\n",
    "#### - Redondea cada valor del arreglo resultante a 2 decimales."
   ]
  },
  {
   "cell_type": "code",
   "execution_count": 98,
   "id": "fafc2504-a697-4f25-99ce-949cf8def306",
   "metadata": {},
   "outputs": [
    {
     "data": {
      "text/plain": [
       "array([ 1,  2,  3,  4,  5,  6,  7,  8,  9, 10])"
      ]
     },
     "execution_count": 98,
     "metadata": {},
     "output_type": "execute_result"
    }
   ],
   "source": [
    "arr6 = np.arange(1,11)\n",
    "arr6"
   ]
  },
  {
   "cell_type": "code",
   "execution_count": 99,
   "id": "42588e06-bc38-488f-9c87-7f31da28cce5",
   "metadata": {},
   "outputs": [
    {
     "data": {
      "text/plain": [
       "array([1.        , 1.41421356, 1.73205081, 2.        , 2.23606798,\n",
       "       2.44948974, 2.64575131, 2.82842712, 3.        , 3.16227766])"
      ]
     },
     "execution_count": 99,
     "metadata": {},
     "output_type": "execute_result"
    }
   ],
   "source": [
    "#Raiz cuadrada\n",
    "np.sqrt(arr6)"
   ]
  },
  {
   "cell_type": "code",
   "execution_count": 100,
   "id": "1fee9577-da94-48a0-8bab-db2bae8871bf",
   "metadata": {},
   "outputs": [
    {
     "data": {
      "text/plain": [
       "array([ 0.84147098,  0.90929743,  0.14112001, -0.7568025 , -0.95892427,\n",
       "       -0.2794155 ,  0.6569866 ,  0.98935825,  0.41211849, -0.54402111])"
      ]
     },
     "execution_count": 100,
     "metadata": {},
     "output_type": "execute_result"
    }
   ],
   "source": [
    "#Seno\n",
    "np.sin(arr6)"
   ]
  },
  {
   "cell_type": "code",
   "execution_count": 101,
   "id": "7db9b24a-9ba1-409d-a54a-bb2d5656ed5f",
   "metadata": {},
   "outputs": [
    {
     "data": {
      "text/plain": [
       "array([0.        , 0.69314718, 1.09861229, 1.38629436, 1.60943791,\n",
       "       1.79175947, 1.94591015, 2.07944154, 2.19722458, 2.30258509])"
      ]
     },
     "execution_count": 101,
     "metadata": {},
     "output_type": "execute_result"
    }
   ],
   "source": [
    "#Logaritmo\n",
    "np.log(arr6)"
   ]
  },
  {
   "cell_type": "markdown",
   "id": "c517e2aa-d820-47ae-a0f0-9afdef4f52d8",
   "metadata": {},
   "source": [
    "# **Ejercicio 7: Operaciones con matrices**\n",
    "#### - Crea dos matrices de 3x3 con valores aleatorios.\n",
    "#### - Realiza las siguientes operaciones entre ambas matrices:\n",
    "#### * Suma\n",
    "#### * Multiplicación elemento a elemento\n",
    "#### * Producto matricial (dot product)\n",
    "#### - Calcula la transpuesta y la inversa (si existe) de una de las matrices."
   ]
  },
  {
   "cell_type": "code",
   "execution_count": 240,
   "id": "11725ab7-52d3-4118-9a85-8ef583b6e733",
   "metadata": {},
   "outputs": [
    {
     "name": "stdout",
     "output_type": "stream",
     "text": [
      "Array 1: \n",
      " [[7 6 7]\n",
      " [3 5 3]\n",
      " [7 2 4]]\n",
      "Array 2: \n",
      " [[3 4 2]\n",
      " [7 2 1]\n",
      " [2 7 8]]\n"
     ]
    }
   ],
   "source": [
    "np.random.seed(123)\n",
    "arr7_1 = np.random.randint(1, 9, size = (3,3))\n",
    "print(\"Array 1: \\n\", arr7_1)\n",
    "\n",
    "arr7_2 = np.random.randint(1,9, size = (3,3))\n",
    "print(\"Array 2: \\n\", arr7_2)"
   ]
  },
  {
   "cell_type": "code",
   "execution_count": 242,
   "id": "e0c8a4ab-c14f-4283-8c85-a1ddec1cf753",
   "metadata": {},
   "outputs": [
    {
     "data": {
      "text/plain": [
       "array([[10, 10,  9],\n",
       "       [10,  7,  4],\n",
       "       [ 9,  9, 12]])"
      ]
     },
     "execution_count": 242,
     "metadata": {},
     "output_type": "execute_result"
    }
   ],
   "source": [
    "#Suma\n",
    "arr7_1 + arr7_2"
   ]
  },
  {
   "cell_type": "code",
   "execution_count": 244,
   "id": "b0492484-d5df-4536-b024-1785134f8ce9",
   "metadata": {},
   "outputs": [
    {
     "data": {
      "text/plain": [
       "array([[21, 24, 14],\n",
       "       [21, 10,  3],\n",
       "       [14, 14, 32]])"
      ]
     },
     "execution_count": 244,
     "metadata": {},
     "output_type": "execute_result"
    }
   ],
   "source": [
    "#Multiplicacion\n",
    "arr7_1 * arr7_2"
   ]
  },
  {
   "cell_type": "code",
   "execution_count": 246,
   "id": "23765d11-0a6e-4ac2-bff5-81c3f2bfe59b",
   "metadata": {},
   "outputs": [
    {
     "data": {
      "text/plain": [
       "array([[77, 89, 76],\n",
       "       [50, 43, 35],\n",
       "       [43, 60, 48]])"
      ]
     },
     "execution_count": 246,
     "metadata": {},
     "output_type": "execute_result"
    }
   ],
   "source": [
    "#Producto punto\n",
    "np.dot(arr7_1,arr7_2)"
   ]
  },
  {
   "cell_type": "code",
   "execution_count": 248,
   "id": "745c2894-f3aa-4200-be12-be3749e79b66",
   "metadata": {},
   "outputs": [
    {
     "data": {
      "text/plain": [
       "array([[7, 3, 7],\n",
       "       [6, 5, 2],\n",
       "       [7, 3, 4]])"
      ]
     },
     "execution_count": 248,
     "metadata": {},
     "output_type": "execute_result"
    }
   ],
   "source": [
    "#Transpuesta\n",
    "arr7_1.T"
   ]
  },
  {
   "cell_type": "markdown",
   "id": "19d2276e-66b9-46db-8d48-e1f9f023dd68",
   "metadata": {},
   "source": [
    "# **Ejercicio 8: Estadı́sticas**\n",
    "#### - Genera un arreglo de 100 elementos con números aleatorios enteros entre 1 y 100.\n",
    "#### - Calcula la media, la mediana, el valor máximo, el valor mı́nimo y la desviación estándar.\n",
    "#### - Encuentra el percentil 25, 50 y 75 de los datos."
   ]
  },
  {
   "cell_type": "code",
   "execution_count": 250,
   "id": "6cf7a1ef-66a5-4083-832e-78ac4e1a8948",
   "metadata": {},
   "outputs": [
    {
     "data": {
      "text/plain": [
       "array([67, 93, 99, 18, 84, 58, 87, 98, 97, 48, 74, 33, 47, 97, 26, 84, 79,\n",
       "       37, 97, 81, 69, 50, 56, 68,  3, 85, 40, 67, 85, 48, 62, 49,  8, 93,\n",
       "       53, 98, 86, 95, 28, 35, 98, 77, 41,  4, 70, 65, 76, 35, 59, 11, 23,\n",
       "       78, 19, 16, 28, 31, 53, 71, 27, 81,  7, 15, 76, 55, 72,  2, 44, 59,\n",
       "       56, 26, 51, 85, 57, 50, 13, 19, 82,  2, 52, 45, 49, 57, 92, 50, 87,\n",
       "        4, 68, 12, 22, 90, 99,  4, 12,  4, 95,  7, 10, 88, 15, 84])"
      ]
     },
     "execution_count": 250,
     "metadata": {},
     "output_type": "execute_result"
    }
   ],
   "source": [
    "np.random.seed(123)\n",
    "arr8 = np.random.randint(1, 100, size = 100)\n",
    "arr8"
   ]
  },
  {
   "cell_type": "code",
   "execution_count": 17,
   "id": "2a3056f0-06a9-42f4-a2bc-f187a231b246",
   "metadata": {},
   "outputs": [
    {
     "data": {
      "text/plain": [
       "53.62"
      ]
     },
     "execution_count": 17,
     "metadata": {},
     "output_type": "execute_result"
    }
   ],
   "source": [
    "#Promedio\n",
    "np.mean(arr8)"
   ]
  },
  {
   "cell_type": "code",
   "execution_count": 15,
   "id": "95db2528-766d-4455-882c-04a6dca0b0f7",
   "metadata": {},
   "outputs": [
    {
     "data": {
      "text/plain": [
       "55.5"
      ]
     },
     "execution_count": 15,
     "metadata": {},
     "output_type": "execute_result"
    }
   ],
   "source": [
    "#Mediana\n",
    "np.median(arr8)"
   ]
  },
  {
   "cell_type": "code",
   "execution_count": 21,
   "id": "f80b8831-c4d8-4d1c-b679-8083e95e21f5",
   "metadata": {},
   "outputs": [
    {
     "data": {
      "text/plain": [
       "99"
      ]
     },
     "execution_count": 21,
     "metadata": {},
     "output_type": "execute_result"
    }
   ],
   "source": [
    "#Maximo\n",
    "np.max(arr8)"
   ]
  },
  {
   "cell_type": "code",
   "execution_count": 23,
   "id": "4b25536a-a386-4913-969b-685b2de9fab4",
   "metadata": {},
   "outputs": [
    {
     "data": {
      "text/plain": [
       "2"
      ]
     },
     "execution_count": 23,
     "metadata": {},
     "output_type": "execute_result"
    }
   ],
   "source": [
    "#Minimo\n",
    "np.min(arr8)"
   ]
  },
  {
   "cell_type": "code",
   "execution_count": 19,
   "id": "ba774ab4-6b4e-4428-a7e0-df388c6b1b45",
   "metadata": {},
   "outputs": [
    {
     "data": {
      "text/plain": [
       "30.344943565609082"
      ]
     },
     "execution_count": 19,
     "metadata": {},
     "output_type": "execute_result"
    }
   ],
   "source": [
    "#Desviacion estandar\n",
    "np.std(arr8)"
   ]
  },
  {
   "cell_type": "markdown",
   "id": "70acdc05-0be7-41d5-a98b-849bd02e1a13",
   "metadata": {},
   "source": [
    "### **Percentil:**"
   ]
  },
  {
   "cell_type": "code",
   "execution_count": 36,
   "id": "d7a36445-eb02-47fa-99f3-07c500027c87",
   "metadata": {},
   "outputs": [
    {
     "data": {
      "text/plain": [
       "26.75"
      ]
     },
     "execution_count": 36,
     "metadata": {},
     "output_type": "execute_result"
    }
   ],
   "source": [
    "# Percentil del 25%\n",
    "np.percentile(arr8, 25)"
   ]
  },
  {
   "cell_type": "code",
   "execution_count": 38,
   "id": "585f9511-a644-45e5-9c88-c80e188332d1",
   "metadata": {},
   "outputs": [
    {
     "data": {
      "text/plain": [
       "55.5"
      ]
     },
     "execution_count": 38,
     "metadata": {},
     "output_type": "execute_result"
    }
   ],
   "source": [
    "# Percentil del 50%\n",
    "np.percentile(arr8, 50)"
   ]
  },
  {
   "cell_type": "code",
   "execution_count": 40,
   "id": "a41fbe7a-134a-49ec-abe9-46103f22586e",
   "metadata": {},
   "outputs": [
    {
     "data": {
      "text/plain": [
       "81.25"
      ]
     },
     "execution_count": 40,
     "metadata": {},
     "output_type": "execute_result"
    }
   ],
   "source": [
    "# Percentil del 75%\n",
    "np.percentile(arr8, 75)"
   ]
  },
  {
   "cell_type": "markdown",
   "id": "ce992416-86f5-4120-acbc-e0484941433a",
   "metadata": {},
   "source": [
    "# **Ejercicio 9: Concatenación y apilamiento**\n",
    "#### - Crea dos arreglos de 1x5 y 5x1.\n",
    "#### - Concáténalos en una sola fila y una sola columna.\n",
    "#### - Apila ambos arreglos como una matriz 5x2."
   ]
  },
  {
   "cell_type": "code",
   "execution_count": 96,
   "id": "d0283e02-794f-4e7c-b151-99eae3d0c985",
   "metadata": {},
   "outputs": [
    {
     "data": {
      "text/plain": [
       "array([[ 6],\n",
       "       [ 7],\n",
       "       [ 8],\n",
       "       [ 9],\n",
       "       [10]])"
      ]
     },
     "execution_count": 96,
     "metadata": {},
     "output_type": "execute_result"
    }
   ],
   "source": [
    "arr9_1 = np.arange(1,6)\n",
    "arr9_2 = np.arange(6,11)\n",
    "arr9_2.reshape(5,1)"
   ]
  },
  {
   "cell_type": "code",
   "execution_count": 98,
   "id": "0e701428-1268-4e88-9375-252f2744b30c",
   "metadata": {},
   "outputs": [
    {
     "data": {
      "text/plain": [
       "array([ 1,  2,  3,  4,  5,  6,  7,  8,  9, 10])"
      ]
     },
     "execution_count": 98,
     "metadata": {},
     "output_type": "execute_result"
    }
   ],
   "source": [
    "np.concatenate((arr9_1, arr9_2))"
   ]
  },
  {
   "cell_type": "code",
   "execution_count": 110,
   "id": "85c0fcf6-7a33-4d90-8606-4d8179e1b7c1",
   "metadata": {},
   "outputs": [
    {
     "data": {
      "text/plain": [
       "array([[ 1,  2,  3,  4,  5],\n",
       "       [ 6,  7,  8,  9, 10]])"
      ]
     },
     "execution_count": 110,
     "metadata": {},
     "output_type": "execute_result"
    }
   ],
   "source": [
    "np.concatenate((arr9_1, arr9_2)).reshape(2,5)"
   ]
  },
  {
   "cell_type": "markdown",
   "id": "b78bc35b-0c54-4f77-bedb-f80ea7cc9564",
   "metadata": {},
   "source": [
    "# **Ejercicio 10: Manipulación de datos en matrices grandes**\n",
    "#### - Crea una matriz aleatoria de 100x100 con valores entre 0 y 1.\n",
    "#### - Calcula la suma de todos los elementos de la matriz.\n",
    "#### - Encuentra el valor máximo de cada fila y almacénalo en un nuevo arreglo."
   ]
  },
  {
   "cell_type": "code",
   "execution_count": 154,
   "id": "481096c1-7d85-4844-9d82-90cb21bdeb44",
   "metadata": {},
   "outputs": [
    {
     "data": {
      "text/plain": [
       "array([[0, 1, 0, ..., 0, 0, 0],\n",
       "       [1, 0, 0, ..., 0, 1, 0],\n",
       "       [1, 1, 0, ..., 0, 0, 1],\n",
       "       ...,\n",
       "       [0, 0, 1, ..., 0, 0, 0],\n",
       "       [1, 0, 1, ..., 1, 0, 1],\n",
       "       [1, 0, 0, ..., 0, 1, 1]])"
      ]
     },
     "execution_count": 154,
     "metadata": {},
     "output_type": "execute_result"
    }
   ],
   "source": [
    "np.random.seed(123)\n",
    "arr10 = np.random.randint(2, size = (100,100))\n",
    "arr10"
   ]
  },
  {
   "cell_type": "code",
   "execution_count": 156,
   "id": "a5d947fd-071f-44c9-865b-2776fef1bfcd",
   "metadata": {},
   "outputs": [
    {
     "data": {
      "text/plain": [
       "4972"
      ]
     },
     "execution_count": 156,
     "metadata": {},
     "output_type": "execute_result"
    }
   ],
   "source": [
    "np.sum(arr10)"
   ]
  },
  {
   "cell_type": "code",
   "execution_count": 162,
   "id": "fa4fa084-dd2a-4f34-8e00-f0738aa9e340",
   "metadata": {},
   "outputs": [
    {
     "data": {
      "text/plain": [
       "array([1, 1, 1, 1, 1, 1, 1, 1, 1, 1, 1, 1, 1, 1, 1, 1, 1, 1, 1, 1, 1, 1,\n",
       "       1, 1, 1, 1, 1, 1, 1, 1, 1, 1, 1, 1, 1, 1, 1, 1, 1, 1, 1, 1, 1, 1,\n",
       "       1, 1, 1, 1, 1, 1, 1, 1, 1, 1, 1, 1, 1, 1, 1, 1, 1, 1, 1, 1, 1, 1,\n",
       "       1, 1, 1, 1, 1, 1, 1, 1, 1, 1, 1, 1, 1, 1, 1, 1, 1, 1, 1, 1, 1, 1,\n",
       "       1, 1, 1, 1, 1, 1, 1, 1, 1, 1, 1, 1])"
      ]
     },
     "execution_count": 162,
     "metadata": {},
     "output_type": "execute_result"
    }
   ],
   "source": [
    "np.amax(arr10, axis = 1)"
   ]
  },
  {
   "cell_type": "markdown",
   "id": "47e1345c-7d5d-425f-9ccc-444c808ea249",
   "metadata": {},
   "source": [
    "# **Ejercicio 11: Ordenamiento y selección**\n",
    "#### - Genera un arreglo de 10 números aleatorios entre 0 y 50.\n",
    "#### - Ordena el arreglo en orden ascendente y descendente.\n",
    "#### - Selecciona los 3 valores más altos y los 3 valores más bajos del arreglo ordenado."
   ]
  },
  {
   "cell_type": "code",
   "execution_count": 182,
   "id": "2f08fda8-da8a-440c-b5d1-970b7c6ca7c9",
   "metadata": {},
   "outputs": [
    {
     "data": {
      "text/plain": [
       "array([45,  2, 28, 34, 38, 17, 19, 42, 22, 33])"
      ]
     },
     "execution_count": 182,
     "metadata": {},
     "output_type": "execute_result"
    }
   ],
   "source": [
    "np.random.seed(123)\n",
    "arr11 = np.random.randint(0, 51, size = 10)\n",
    "arr11"
   ]
  },
  {
   "cell_type": "code",
   "execution_count": 196,
   "id": "00b0eb6a-d704-4d7c-ade5-d5fa524f96b9",
   "metadata": {},
   "outputs": [
    {
     "data": {
      "text/plain": [
       "array([ 2, 17, 19, 22, 28, 33, 34, 38, 42, 45])"
      ]
     },
     "execution_count": 196,
     "metadata": {},
     "output_type": "execute_result"
    }
   ],
   "source": [
    "asc = np.sort(arr11)\n",
    "asc"
   ]
  },
  {
   "cell_type": "code",
   "execution_count": 198,
   "id": "6b01069b-ada5-46ec-a818-2e3e1809d665",
   "metadata": {},
   "outputs": [
    {
     "data": {
      "text/plain": [
       "array([45, 42, 38, 34, 33, 28, 22, 19, 17,  2])"
      ]
     },
     "execution_count": 198,
     "metadata": {},
     "output_type": "execute_result"
    }
   ],
   "source": [
    "des = -np.sort(-arr11)\n",
    "des"
   ]
  },
  {
   "cell_type": "code",
   "execution_count": 204,
   "id": "b2644adc-e76e-47b5-8cc7-79c382836327",
   "metadata": {},
   "outputs": [
    {
     "data": {
      "text/plain": [
       "array([ 2, 17, 19])"
      ]
     },
     "execution_count": 204,
     "metadata": {},
     "output_type": "execute_result"
    }
   ],
   "source": [
    "min_arr = asc[:3]\n",
    "min_arr"
   ]
  },
  {
   "cell_type": "code",
   "execution_count": 206,
   "id": "7a497817-09cd-4b56-9164-179864867bd7",
   "metadata": {},
   "outputs": [
    {
     "data": {
      "text/plain": [
       "array([45, 42, 38])"
      ]
     },
     "execution_count": 206,
     "metadata": {},
     "output_type": "execute_result"
    }
   ],
   "source": [
    "max_arr = des[:3]\n",
    "max_arr"
   ]
  }
 ],
 "metadata": {
  "kernelspec": {
   "display_name": "Python 3 (ipykernel)",
   "language": "python",
   "name": "python3"
  },
  "language_info": {
   "codemirror_mode": {
    "name": "ipython",
    "version": 3
   },
   "file_extension": ".py",
   "mimetype": "text/x-python",
   "name": "python",
   "nbconvert_exporter": "python",
   "pygments_lexer": "ipython3",
   "version": "3.12.7"
  }
 },
 "nbformat": 4,
 "nbformat_minor": 5
}
